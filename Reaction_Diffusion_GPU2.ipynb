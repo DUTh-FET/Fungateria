{
 "cells": [
  {
   "cell_type": "code",
   "execution_count": 6,
   "metadata": {},
   "outputs": [],
   "source": [
    "import torch\n",
    "import matplotlib.pyplot as plt\n",
    "import numpy as np\n",
    "from PIL import Image"
   ]
  },
  {
   "cell_type": "code",
   "execution_count": 3,
   "metadata": {},
   "outputs": [
    {
     "name": "stdout",
     "output_type": "stream",
     "text": [
      "Using device: cuda\n"
     ]
    }
   ],
   "source": [
    "device = torch.device('cuda' if torch.cuda.is_available() else 'cpu')\n",
    "print(f\"Using device: {device}\")"
   ]
  },
  {
   "cell_type": "code",
   "execution_count": 7,
   "metadata": {},
   "outputs": [],
   "source": [
    "# Load the image using Pillow\n",
    "img = Image.open('Mycelium_model_real_image_1.png').convert('L')  # 'L' converts to grayscale\n",
    "\n",
    "# Convert image to NumPy array and binarize (thresholding at 127)\n",
    "img_array = np.array(img)\n",
    "threshold = 127\n",
    "binary_img = np.where(img_array > threshold, 1, 0)  # Binarize image\n",
    "\n",
    "# Convert to PyTorch tensor\n",
    "skeleton = torch.tensor(binary_img, dtype=torch.float32).to(device)"
   ]
  },
  {
   "cell_type": "code",
   "execution_count": 8,
   "metadata": {},
   "outputs": [],
   "source": [
    "# Hyperparameters\n",
    "gridSize = skeleton.shape[0]\n",
    "totalIterations = 500\n",
    "substrate_val = 0.3\n",
    "depth = 2\n",
    "alpha_mat = torch.zeros((gridSize, gridSize)).to(device)\n",
    "\n",
    "# Reaction-Diffusion parameters\n",
    "pa = 0.5; pb = 0.8; pc = 0.16; pe = 2.6; d = 30; dt = 1e-1\n",
    "threshold = 0.5; pk = 0.05; gamma = 625; ph = 1\n",
    "amax = 100; smax = 35\n",
    "\n",
    "# Laplacian weights\n",
    "lap_side = 0.35\n",
    "lap_diag = 0.1\n",
    "lap = 1 / 9"
   ]
  },
  {
   "cell_type": "code",
   "execution_count": 9,
   "metadata": {},
   "outputs": [],
   "source": [
    "# Initial conditions for u, v, and c\n",
    "u = torch.zeros((gridSize, gridSize)).to(device)\n",
    "v = torch.zeros((gridSize, gridSize)).to(device)\n",
    "c = torch.zeros((gridSize, gridSize)).to(device)\n",
    "mid = gridSize // 2\n",
    "c_new = torch.zeros_like(c)\n",
    "u_new = torch.zeros_like(u)\n",
    "v_new = torch.zeros_like(v)\n",
    "f_uv = torch.zeros_like(u)\n",
    "g_uv = torch.zeros_like(v)\n",
    "\n",
    "# Creating a gradient for substrate matrix 'n'\n",
    "n = torch.linspace(1, substrate_val, gridSize).repeat(gridSize, 1).to(device)\n",
    "n[skeleton != 1] = -1  # Apply the skeleton constraints"
   ]
  },
  {
   "cell_type": "code",
   "execution_count": 10,
   "metadata": {},
   "outputs": [],
   "source": [
    "# Initialize activator (u), inhibitor (v), and mycelium (c) in a small circular region in the center\n",
    "for k in range(-5, 6):\n",
    "    for j in range(mid - k, mid + k + 1):\n",
    "        for l in range(mid - k, mid + k + 1):\n",
    "            u[j, l] = 0.5 + (torch.rand(1).item() / (0.5 * n[j, l]))\n",
    "            v[j, l] = 0.1 + (torch.rand(1).item() / (0.5 * n[j, l]))\n",
    "    c[mid - k:mid + k + 1, mid - k + k + 1] = 1.0\n",
    "\n",
    "ij_mat = torch.zeros((gridSize, gridSize)).to(device)"
   ]
  },
  {
   "cell_type": "code",
   "execution_count": null,
   "metadata": {},
   "outputs": [],
   "source": [
    "# Main simulation loop\n",
    "for steps in range(totalIterations):\n",
    "    # Calculate reaction terms\n",
    "    f_uv = (pa * u + (u ** 2) - pb * u * v) * n\n",
    "    g_uv = pe * u ** 3 - v\n",
    "\n",
    "    # Calculate Laplacian (using finite difference)\n",
    "    for i in range(depth, gridSize - depth):\n",
    "        for j in range(depth, gridSize - depth):\n",
    "            if c[i, j] > 0:\n",
    "                for dx in range(-depth, depth + 1):\n",
    "                    for dy in range(-depth, depth + 1):\n",
    "                        if dx == 0 and dy == 0:\n",
    "                            ij_mat[i, j] = lap  # Center cell\n",
    "                        elif abs(dx) == abs(dy):\n",
    "                            ij_mat[i + dx, j + dy] = lap_diag  # Diagonal cells\n",
    "                        else:\n",
    "                            ij_mat[i + dx, j + dy] = lap_side  # Side cells\n",
    "\n",
    "    # Update concentrations\n",
    "    for i in range(1, gridSize - 1):\n",
    "        for j in range(1, gridSize - 1):\n",
    "            v_new[i, j] = v[i, j] + dt * ij_mat[i, j] * (d * (\n",
    "                    lap_side * (v[i + 1, j] + v[i - 1, j] + v[i, j + 1] + v[i, j - 1])\n",
    "                    + lap_diag * (v[i - 1, j - 1] + v[i + 1, j - 1] + v[i - 1, j + 1] + v[i + 1, j + 1])\n",
    "                    - lap * v[i, j]) + gamma * g_uv[i, j])\n",
    "\n",
    "            u_new[i, j] = u[i, j] + dt * ij_mat[i, j] * (\n",
    "                    lap_side * (u[i + 1, j] + u[i - 1, j] + u[i, j + 1] + u[i, j - 1])\n",
    "                    + lap_diag * (u[i - 1, j - 1] + u[i + 1, j - 1] + u[i - 1, j + 1] + u[i + 1, j + 1])\n",
    "                    - lap * u[i, j] + gamma * f_uv[i, j])\n",
    "\n",
    "            # Boundary conditions and constraints\n",
    "            if n[i, j] == -1:\n",
    "                u_new[i, j] = u[i, j] - torch.rand(1).item() / 10000\n",
    "\n",
    "            if u[i, j] <= threshold:\n",
    "                alpha = 0.49\n",
    "            else:\n",
    "                alpha = 0.49 - 2.5 * (u[i, j] - threshold)\n",
    "                v_new[i, j] = 0\n",
    "\n",
    "            c_new[i, j] = c[i, j] + dt * gamma * ph * c[i, j] * (alpha - c[i, j]) * (c[i, j] - 1)\n",
    "\n",
    "            # Limiters for activator, inhibitor, and mycelium\n",
    "            u_new[i, j] = torch.clamp(u_new[i, j], 0, amax)\n",
    "            v_new[i, j] = torch.clamp(v_new[i, j], 0, smax)\n",
    "            c_new[i, j] = torch.clamp(c_new[i, j], 0, 1)\n",
    "\n",
    "    # Update matrices\n",
    "    u = u_new.clone()\n",
    "    v = v_new.clone()\n",
    "    c = c_new.clone()\n",
    "\n",
    "    # Visualization every 20 iterations\n",
    "    if steps % 20 == 0:\n",
    "        plt.subplot(2, 2, 1)\n",
    "        plt.imshow(u.cpu().numpy(), cmap='jet', vmin=0, vmax=amax)\n",
    "        plt.title(f'Activator u at iteration {steps}')\n",
    "        plt.colorbar()\n",
    "\n",
    "        plt.subplot(2, 2, 2)\n",
    "        plt.imshow(v.cpu().numpy(), cmap='jet', vmin=0, vmax=smax)\n",
    "        plt.title(f'Inhibitor v at iteration {steps}')\n",
    "        plt.colorbar()\n",
    "\n",
    "        plt.subplot(2, 2, 3)\n",
    "        plt.imshow(c.cpu().numpy(), cmap='jet', vmin=0, vmax=1)\n",
    "        plt.title(f'Mycelium at iteration {steps}')\n",
    "        plt.colorbar()\n",
    "\n",
    "        plt.subplot(2, 2, 4)\n",
    "        plt.imshow(n.cpu().numpy(), cmap='jet', vmin=torch.min(n).item(), vmax=torch.max(n).item())\n",
    "        plt.title('Substrate')\n",
    "        plt.colorbar()\n",
    "\n",
    "        plt.tight_layout()\n",
    "        plt.show()"
   ]
  },
  {
   "cell_type": "code",
   "execution_count": null,
   "metadata": {},
   "outputs": [],
   "source": []
  }
 ],
 "metadata": {
  "kernelspec": {
   "display_name": "base",
   "language": "python",
   "name": "python3"
  },
  "language_info": {
   "codemirror_mode": {
    "name": "ipython",
    "version": 3
   },
   "file_extension": ".py",
   "mimetype": "text/x-python",
   "name": "python",
   "nbconvert_exporter": "python",
   "pygments_lexer": "ipython3",
   "version": "3.12.3"
  }
 },
 "nbformat": 4,
 "nbformat_minor": 2
}
