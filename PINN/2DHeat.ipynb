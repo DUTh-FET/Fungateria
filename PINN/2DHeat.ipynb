{
 "cells": [
  {
   "cell_type": "code",
   "execution_count": 52,
   "metadata": {},
   "outputs": [],
   "source": [
    "import torch\n",
    "import torch.nn as nn\n",
    "import torch.optim as optim\n",
    "\n",
    "import seaborn as sns\n",
    "from matplotlib import pyplot as plt\n",
    "\n",
    "import pandas as pd\n",
    "import numpy as np\n",
    "import math\n",
    "\n",
    "\n",
    "from sklearn.preprocessing import PolynomialFeatures\n",
    "from sklearn.linear_model import LinearRegression\n",
    "from sklearn.preprocessing import MinMaxScaler\n",
    "\n",
    "from scipy.signal import savgol_filter\n",
    "from scipy.signal import medfilt\n",
    "\n",
    "\n",
    "import os\n",
    "from torch.utils.data import DataLoader as DataLoader\n",
    "from torch.utils.data import Dataset as Dataset\n",
    "from torch.nn.functional import interpolate"
   ]
  },
  {
   "cell_type": "code",
   "execution_count": 53,
   "metadata": {},
   "outputs": [
    {
     "name": "stdout",
     "output_type": "stream",
     "text": [
      "Using device: cuda\n"
     ]
    }
   ],
   "source": [
    "device = torch.device('cuda' if torch.cuda.is_available() else 'cpu')\n",
    "print(f'Using device: {device}')"
   ]
  },
  {
   "cell_type": "code",
   "execution_count": 54,
   "metadata": {},
   "outputs": [],
   "source": [
    "torch.set_default_dtype(torch.float64)"
   ]
  },
  {
   "cell_type": "code",
   "execution_count": 55,
   "metadata": {},
   "outputs": [],
   "source": [
    "class PINN(nn.Module):\n",
    "    def __init__(self):\n",
    "        super(PINN,self).__init__()\n",
    "        self.net = nn.Sequential(nn.Linear(3,64),\n",
    "                                 nn.Tanh(),\n",
    "                                 nn.Linear(64,64),\n",
    "                                 nn.Tanh(),\n",
    "                                 nn.Linear(64,1))\n",
    "        \n",
    "    def forward(self,x):\n",
    "        return self.net(x)"
   ]
  },
  {
   "cell_type": "code",
   "execution_count": 56,
   "metadata": {},
   "outputs": [],
   "source": [
    "def initial_condition(x,y):\n",
    "    return torch.sin(torch.pi*x) * torch.sin(torch.pi*y)"
   ]
  },
  {
   "cell_type": "code",
   "execution_count": 57,
   "metadata": {},
   "outputs": [],
   "source": [
    "def boundary_condition(x,y,t, custom_value):\n",
    "    return torch.full_like(x, custom_value).to(device)\n",
    "    "
   ]
  },
  {
   "cell_type": "code",
   "execution_count": 58,
   "metadata": {},
   "outputs": [],
   "source": [
    "def generate_training_data(num_points):\n",
    "    x = torch.rand(num_points, 1, requires_grad = True).to(device)\n",
    "    y = torch.rand(num_points, 1, requires_grad = True).to(device)\n",
    "    t = torch.rand(num_points, 1, requires_grad = True).to(device)\n",
    "    \n",
    "    return x, y, t\n"
   ]
  },
  {
   "cell_type": "code",
   "execution_count": 59,
   "metadata": {},
   "outputs": [],
   "source": [
    "def generate_boundary_points(num_points):\n",
    "    x_boundary = torch.tensor([0.0,1.0]).repeat(num_points//2).to(device)\n",
    "    y_boundary = torch.rand(num_points).to(device)\n",
    "    \n",
    "    if torch.rand(1) > 0.5:\n",
    "        x_boundary, y_boundary = y_boundary, x_boundary\n",
    "        \n",
    "    return x_boundary.view(-1,1), y_boundary.view(-1,1)"
   ]
  },
  {
   "cell_type": "code",
   "execution_count": 60,
   "metadata": {},
   "outputs": [],
   "source": [
    "def generate_boundary_training_data(num_points):\n",
    "    x_boundary, y_boundary = generate_boundary_points(num_points)\n",
    "    t = torch.rand(num_points, 1, requires_grad=True).to(device)\n",
    "    \n",
    "    return x_boundary, y_boundary, t"
   ]
  },
  {
   "cell_type": "code",
   "execution_count": 61,
   "metadata": {},
   "outputs": [],
   "source": [
    "def pde(x,y,t,model):\n",
    "    input_data = torch.cat([x,y,t],dim=1)\n",
    "    u = model(input_data)\n",
    "    u_x,u_y = torch.autograd.grad(u,[x,y],grad_outputs= torch.ones_like(u), create_graph= True, retain_graph=True) \n",
    "    u_xx = torch.autograd.grad(u_x,x,grad_outputs= torch.ones_like(u_x), create_graph= True, retain_graph=True)[0]\n",
    "    u_yy = torch.autograd.grad(u_y,y,grad_outputs= torch.ones_like(u_y), create_graph= True, retain_graph=True)[0]\n",
    "    u_t = torch.autograd.grad(u,t,grad_outputs= torch.ones_like(u), create_graph= True, retain_graph=True)[0]\n",
    "    heat_eq_residual = 1 * u_xx + 1 * u_yy - u_t\n",
    "    return heat_eq_residual"
   ]
  },
  {
   "cell_type": "code",
   "execution_count": 62,
   "metadata": {},
   "outputs": [],
   "source": [
    "def train_PINN(model, num_iterations, num_points):\n",
    "    optimiser = optim.Adam(model.parameters(), lr=1e-03)\n",
    "    \n",
    "    for iteration in range(num_iterations):\n",
    "        optimiser.zero_grad()\n",
    "        \n",
    "        x,y,t = generate_training_data(num_points)\n",
    "        \n",
    "        x_b, y_b, t_b = generate_boundary_training_data(num_points)\n",
    "        \n",
    "        t_initial = torch.zeros_like(x)\n",
    "        u_initial = initial_condition(x,y)\n",
    "        \n",
    "        custom_value = 0\n",
    "        u_boundary_x = boundary_condition(x_b,y_b,t_b,custom_value)\n",
    "        u_boundary_y = boundary_condition(y_b,x_b,t_b,custom_value)\n",
    "        \n",
    "        residual = pde(x,y,t,model)\n",
    "        \n",
    "        loss =  nn.MSELoss()(u_initial, model(torch.cat([x,y,t_initial], dim=1))) + \\\n",
    "                nn.MSELoss()(u_boundary_x, model(torch.cat([x_b,y_b,t_b], dim=1))) + \\\n",
    "                nn.MSELoss()(u_boundary_y, model(torch.cat([y_b,x_b,t_b], dim=1))) + \\\n",
    "                nn.MSELoss()(residual, torch.zeros_like(residual))\n",
    "                \n",
    "        loss.backward()\n",
    "        optimiser.step()\n",
    "        \n",
    "        if iteration % 100 ==0:\n",
    "            print(f\"itration:, {iteration}, loss:, {loss}\" )"
   ]
  },
  {
   "cell_type": "code",
   "execution_count": 63,
   "metadata": {},
   "outputs": [
    {
     "name": "stdout",
     "output_type": "stream",
     "text": [
      "itration:, 0, loss:, 0.3231252237610772\n",
      "itration:, 100, loss:, 0.12795492154124624\n",
      "itration:, 200, loss:, 0.12708618308373532\n",
      "itration:, 300, loss:, 0.09928475677201867\n",
      "itration:, 400, loss:, 0.08460275902028952\n",
      "itration:, 500, loss:, 0.07032221316748084\n",
      "itration:, 600, loss:, 0.06303063322656534\n",
      "itration:, 700, loss:, 0.05904908011124002\n",
      "itration:, 800, loss:, 0.053279358650161014\n",
      "itration:, 900, loss:, 0.04809244652510252\n",
      "itration:, 1000, loss:, 0.04277270825301498\n",
      "itration:, 1100, loss:, 0.03991453959346694\n",
      "itration:, 1200, loss:, 0.0378989593275644\n",
      "itration:, 1300, loss:, 0.03717798657207501\n",
      "itration:, 1400, loss:, 0.033975356083507116\n",
      "itration:, 1500, loss:, 0.02995056763304567\n",
      "itration:, 1600, loss:, 0.0268712041504934\n",
      "itration:, 1700, loss:, 0.02501110201204278\n",
      "itration:, 1800, loss:, 0.0238097468273797\n",
      "itration:, 1900, loss:, 0.02183264846671588\n",
      "itration:, 2000, loss:, 0.02105449548675599\n",
      "itration:, 2100, loss:, 0.017898772949957877\n",
      "itration:, 2200, loss:, 0.018591580607748216\n",
      "itration:, 2300, loss:, 0.017026681238875498\n",
      "itration:, 2400, loss:, 0.016616771711170847\n",
      "itration:, 2500, loss:, 0.013951977293451668\n",
      "itration:, 2600, loss:, 0.013261331143286488\n",
      "itration:, 2700, loss:, 0.01380513023707378\n",
      "itration:, 2800, loss:, 0.01408910303774804\n",
      "itration:, 2900, loss:, 0.012767776072841542\n",
      "itration:, 3000, loss:, 0.011584720037960511\n",
      "itration:, 3100, loss:, 0.010979103094737248\n",
      "itration:, 3200, loss:, 0.011199564370790633\n",
      "itration:, 3300, loss:, 0.010813287884153719\n",
      "itration:, 3400, loss:, 0.010711815262977972\n",
      "itration:, 3500, loss:, 0.010033451643946319\n",
      "itration:, 3600, loss:, 0.010223210594935125\n",
      "itration:, 3700, loss:, 0.010281376844503072\n",
      "itration:, 3800, loss:, 0.008663973357076506\n",
      "itration:, 3900, loss:, 0.011026763344371283\n",
      "itration:, 4000, loss:, 0.009019970237245576\n",
      "itration:, 4100, loss:, 0.009522080937683147\n",
      "itration:, 4200, loss:, 0.009635289236401619\n",
      "itration:, 4300, loss:, 0.00895117263829652\n",
      "itration:, 4400, loss:, 0.008444341211119765\n",
      "itration:, 4500, loss:, 0.008759713641185269\n",
      "itration:, 4600, loss:, 0.00848707339843166\n",
      "itration:, 4700, loss:, 0.008929217352848054\n",
      "itration:, 4800, loss:, 0.00828375135195316\n",
      "itration:, 4900, loss:, 0.007929953988288043\n",
      "itration:, 5000, loss:, 0.008076748921371994\n",
      "itration:, 5100, loss:, 0.008018235019518817\n",
      "itration:, 5200, loss:, 0.008668007840845659\n",
      "itration:, 5300, loss:, 0.00761906665291478\n",
      "itration:, 5400, loss:, 0.006941376695553089\n",
      "itration:, 5500, loss:, 0.008118486714716409\n",
      "itration:, 5600, loss:, 0.0074866166032720866\n",
      "itration:, 5700, loss:, 0.006607095375641395\n",
      "itration:, 5800, loss:, 0.007244449005614181\n",
      "itration:, 5900, loss:, 0.0076339190521583535\n",
      "itration:, 6000, loss:, 0.006673284549029395\n",
      "itration:, 6100, loss:, 0.006931713503257573\n",
      "itration:, 6200, loss:, 0.0059464156529294475\n",
      "itration:, 6300, loss:, 0.007066337076154943\n",
      "itration:, 6400, loss:, 0.006713102744430053\n",
      "itration:, 6500, loss:, 0.0060813700176181856\n",
      "itration:, 6600, loss:, 0.006687720462586075\n",
      "itration:, 6700, loss:, 0.006690815678869386\n",
      "itration:, 6800, loss:, 0.0061826809298669684\n",
      "itration:, 6900, loss:, 0.006299439086070284\n",
      "itration:, 7000, loss:, 0.005490535881954701\n",
      "itration:, 7100, loss:, 0.005609387446128152\n",
      "itration:, 7200, loss:, 0.005356174284805494\n",
      "itration:, 7300, loss:, 0.005594290446753934\n",
      "itration:, 7400, loss:, 0.0057821365481644455\n",
      "itration:, 7500, loss:, 0.005165776050519656\n",
      "itration:, 7600, loss:, 0.005480698857857902\n",
      "itration:, 7700, loss:, 0.0054709404579644716\n",
      "itration:, 7800, loss:, 0.004805487527591641\n",
      "itration:, 7900, loss:, 0.005427926036732024\n",
      "itration:, 8000, loss:, 0.005183906612102896\n",
      "itration:, 8100, loss:, 0.0055168759133466735\n",
      "itration:, 8200, loss:, 0.005089815757980859\n",
      "itration:, 8300, loss:, 0.004753344970852409\n",
      "itration:, 8400, loss:, 0.004793746188849099\n",
      "itration:, 8500, loss:, 0.00446299716901903\n",
      "itration:, 8600, loss:, 0.004181396278316787\n",
      "itration:, 8700, loss:, 0.005088124694550358\n",
      "itration:, 8800, loss:, 0.004709002996823624\n",
      "itration:, 8900, loss:, 0.004550764923709109\n",
      "itration:, 9000, loss:, 0.004591549762280902\n",
      "itration:, 9100, loss:, 0.004545584852209701\n",
      "itration:, 9200, loss:, 0.004488283308643448\n",
      "itration:, 9300, loss:, 0.004885495352904504\n",
      "itration:, 9400, loss:, 0.003981241889364852\n",
      "itration:, 9500, loss:, 0.0038286486044132487\n",
      "itration:, 9600, loss:, 0.0040815848672046875\n",
      "itration:, 9700, loss:, 0.0045452823683371545\n",
      "itration:, 9800, loss:, 0.003933428839650432\n",
      "itration:, 9900, loss:, 0.0033023535510717547\n"
     ]
    }
   ],
   "source": [
    "model = PINN().to(device)\n",
    "num_iterations = 10000\n",
    "num_points = 1000\n",
    "train_PINN(model,num_iterations,num_points)"
   ]
  },
  {
   "cell_type": "code",
   "execution_count": 83,
   "metadata": {},
   "outputs": [
    {
     "data": {
      "image/png": "[encoded data removed]",
      "text/plain": [
       "<Figure size 800x600 with 2 Axes>"
      ]
     },
     "metadata": {},
     "output_type": "display_data"
    }
   ],
   "source": [
    "with torch.no_grad():\n",
    "    x_vals = torch.linspace(0,1,100).to(device)\n",
    "    y_vals = torch.linspace(0,1,100).to(device)\n",
    "    X, Y = torch.meshgrid(x_vals,y_vals)\n",
    "    t_val = torch.ones_like(X) * 0.2# spacify the time\n",
    "    \n",
    "    input_data = torch.stack([X.flatten(),Y.flatten(),t_val.flatten()], dim=1)\n",
    "    solution = model(input_data).reshape(X.shape,Y.shape)\n",
    "    \n",
    "    plt.figure(figsize=(8,6))\n",
    "    sns.heatmap(solution.cpu().detach().numpy(), cmap=\"jet\")\n",
    "    plt.title(\"2D Heat Equation Solution\")\n",
    "    plt.xlabel(\"X\")\n",
    "    plt.ylabel(\"y\")\n",
    "    plt.show()"
   ]
  },
  {
   "cell_type": "code",
   "execution_count": 82,
   "metadata": {},
   "outputs": [
    {
     "name": "stdout",
     "output_type": "stream",
     "text": [
      "tensor([[0.0221],\n",
      "        [0.0213],\n",
      "        [0.0205],\n",
      "        ...,\n",
      "        [0.0008],\n",
      "        [0.0010],\n",
      "        [0.0013]], device='cuda:0', grad_fn=<AddmmBackward0>)\n"
     ]
    }
   ],
   "source": [
    "solution = model(input_data)\n",
    "print(solution)"
   ]
  },
  {
   "cell_type": "code",
   "execution_count": null,
   "metadata": {},
   "outputs": [],
   "source": []
  }
 ],
 "metadata": {
  "kernelspec": {
   "display_name": "base",
   "language": "python",
   "name": "python3"
  },
  "language_info": {
   "codemirror_mode": {
    "name": "ipython",
    "version": 3
   },
   "file_extension": ".py",
   "mimetype": "text/x-python",
   "name": "python",
   "nbconvert_exporter": "python",
   "pygments_lexer": "ipython3",
   "version": "3.12.3"
  }
 },
 "nbformat": 4,
 "nbformat_minor": 2
}
